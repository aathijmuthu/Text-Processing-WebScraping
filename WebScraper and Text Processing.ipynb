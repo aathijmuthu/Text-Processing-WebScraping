{
 "cells": [
  {
   "cell_type": "markdown",
   "metadata": {},
   "source": []
  },
  {
   "cell_type": "code",
   "execution_count": 1,
   "metadata": {},
   "outputs": [],
   "source": [
    "# import packages\n",
    "import numpy as np\n",
    "import pandas as pd\n",
    "from nltk.sentiment.vader import SentimentIntensityAnalyzer\n",
    "import requests\n",
    "import re\n",
    "from urllib.parse import urlparse\n",
    "import urllib.robotparser\n",
    "from bs4 import BeautifulSoup\n",
    "\n",
    "# This code checks the robots.txt file\n",
    "def canFetch(url):\n",
    "\n",
    "    parsed_uri = urlparse(url)\n",
    "    domain = '{uri.scheme}://{uri.netloc}/'.format(uri=parsed_uri)\n",
    "\n",
    "    rp = urllib.robotparser.RobotFileParser()\n",
    "    rp.set_url(domain + \"/robots.txt\")\n",
    "    try:\n",
    "        rp.read()\n",
    "        canFetchBool = rp.can_fetch(\"*\", url)\n",
    "    except:\n",
    "        canFetchBool = None\n",
    "    \n",
    "    return canFetchBool"
   ]
  },
  {
   "cell_type": "markdown",
   "metadata": {},
   "source": []
  },
  {
   "cell_type": "markdown",
   "metadata": {},
   "source": [
    "# Trump vs Biden Wikipedia Sentiment Analysis: \n",
    "\n",
    "My question is which president as a greater positive correlation with a sentiment analysis and counting word frequency. A residual question of whether Wikipedia (a website solely based on facts not opinion) has biases when describing Trump or Biden can be answered with this sentiment analysis as well. I will be performing webscraping on two Wikipedia sites, one about Trump and another about Biden. Then I will clean the data to only include sentences with either Trump or Biden. I will find out what word is most frequent in both texts. Then I will perform a sentiment analysis and find the mean of the compound score and compare the scores of the two political figures.\n"
   ]
  },
  {
   "cell_type": "code",
   "execution_count": 2,
   "metadata": {},
   "outputs": [],
   "source": [
    "url_trump = \"https://en.wikipedia.org/wiki/Donald_Trump\" # Trump wiki page  \n",
    "canFetch(url_trump)\n",
    "r_trump = requests.get(url_trump)\n",
    "urlText_trump = r_trump.text  # grabs the text from trump article\n",
    "\n",
    "url_biden = \"https://en.wikipedia.org/wiki/Joe_Biden\" # Biden wiki page\n",
    "canFetch(url_biden)\n",
    "r_biden = requests.get(url_biden) \n",
    "urlText_biden = r_biden.text # grabs the text from biden article\n"
   ]
  },
  {
   "cell_type": "code",
   "execution_count": 3,
   "metadata": {},
   "outputs": [
    {
     "name": "stdout",
     "output_type": "stream",
     "text": [
      "[' Donald John Trump (born June 14, 1946) is an American politician, media personality, and businessman who served as the 45th president of the United States from 2017 to 2021', ' Trump received a Bachelor of Science in economics from the University of Pennsylvania in 1968, and his father named him president of his real estate business in 1971', ' Trump renamed it the Trump Organization and reoriented the company toward building and renovating skyscrapers, hotels, casinos, and golf courses', ' After a series of business failures in the late twentieth century, he successfully launched side ventures that required little capital, mostly by licensing the Trump name', ' Trump won the 2016 presidential election as the Republican Party nominee against Democratic Party nominee Hillary Clinton while losing the popular vote']\n"
     ]
    }
   ],
   "source": [
    "# uses BeautifulSoup to parse through the article and get the information I need\n",
    "\n",
    "soup = BeautifulSoup(urlText_trump, 'html.parser')\n",
    "page_response = requests.get(url_trump,timeout=5)\n",
    "page_content = BeautifulSoup(page_response.content, \"html.parser\")\n",
    "#we use the html parser to parse the url content and store it in a variable.\n",
    "\n",
    "paragraphs = page_content.find_all('p') # finds all paragraph tags in article\n",
    "\n",
    "text_content_trump = [] # list of all sentences in biden article\n",
    "for paragraph in paragraphs:\n",
    "    text_content_trump.append(paragraph.get_text().strip()) # removes html tags from each sentence and adds to list\n",
    "\n",
    "text_content_trump = \" \".join(text_content_trump).split('.') # splits by period so each component is a sentence\n",
    "\n",
    "# only includes sentences that include Trump\n",
    "text_content_trump = [s for s in text_content_trump if ('TRUMP' in s.upper()) or ('DONALD' in s.upper())]\n",
    "print(text_content_trump[:5])"
   ]
  },
  {
   "cell_type": "code",
   "execution_count": 4,
   "metadata": {},
   "outputs": [
    {
     "name": "stdout",
     "output_type": "stream",
     "text": [
      "[' Joseph Robinette Biden Jr', ' Born in Scranton, Pennsylvania, Biden moved with his family to Delaware in 1953', ' As a senator, Biden drafted and led the effort to pass the Violent Crime Control and Law Enforcement Act and the Violence Against Women Act', ' Biden ran unsuccessfully for the Democratic presidential nomination in 1988 and 2008', ' In 2008, Obama chose Biden as his running mate, and he was a close counselor to Obama during his two terms as vice president']\n"
     ]
    }
   ],
   "source": [
    "# uses BeautifulSoup to parse through the article and get the information I need\n",
    "\n",
    "soup = BeautifulSoup(urlText_biden, 'html.parser')\n",
    "page_response = requests.get(url_biden,timeout=5)\n",
    "page_content = BeautifulSoup(page_response.content, \"html.parser\")\n",
    "#we use the html parser to parse the url content and store it in a variable.\n",
    "\n",
    "paragraphs = page_content.find_all('p') # finds all paragraph tags in article\n",
    "\n",
    "text_content_biden = [] # list of all sentences in biden article\n",
    "for paragraph in paragraphs:\n",
    "    text_content_biden.append(paragraph.get_text().strip()) # removes html tags from each sentence and adds to list\n",
    "\n",
    "text_content_biden = \" \".join(text_content_biden).split('.') # splits by period so each component is a sentence\n",
    "\n",
    "# only includes sentences that include Biden\n",
    "text_content_biden = [s for s in text_content_biden if ('BIDEN' in s.upper()) or ('JOE' in s.upper())]\n",
    "print(text_content_biden[:5])"
   ]
  },
  {
   "cell_type": "code",
   "execution_count": 5,
   "metadata": {},
   "outputs": [
    {
     "name": "stdout",
     "output_type": "stream",
     "text": [
      "Total words: 8527\n",
      "Distinct words: 3733\n"
     ]
    }
   ],
   "source": [
    "text_content_trump_words = \" \".join(text_content_trump).split() # creates a list of all words\n",
    "text_content_trump_words = [word for word in text_content_trump_words if (len(word) >= 3) and (word.upper() != \\\n",
    "'THE') and (word.upper() != 'AND')] #removes stop words\n",
    "print(\"Total words: \" + str(len(text_content_trump_words)))\n",
    "print(\"Distinct words: \" + str(len(set(text_content_trump_words))))"
   ]
  },
  {
   "cell_type": "code",
   "execution_count": 6,
   "metadata": {},
   "outputs": [
    {
     "name": "stdout",
     "output_type": "stream",
     "text": [
      "Total words: 5870\n",
      "Distinct words: 2878\n"
     ]
    }
   ],
   "source": [
    "text_content_biden_words = \" \".join(text_content_biden).split() # creates a list of all words\n",
    "text_content_biden_words = [word for word in text_content_biden_words if (len(word) >= 3) and (word.upper() != \\\n",
    "'THE') and (word.upper() != 'AND')] #removes stop words\n",
    "print(\"Total words: \" + str(len(text_content_biden_words)))\n",
    "print(\"Distinct words: \" + str(len(set(text_content_biden_words))))"
   ]
  },
  {
   "cell_type": "code",
   "execution_count": 7,
   "metadata": {},
   "outputs": [
    {
     "data": {
      "text/plain": [
       "{'Trump': 424,\n",
       " 'his': 133,\n",
       " 'that': 123,\n",
       " 'for': 103,\n",
       " \"Trump's\": 101,\n",
       " 'was': 85,\n",
       " 'with': 75,\n",
       " 'from': 58,\n",
       " 'had': 56,\n",
       " 'were': 47,\n",
       " 'not': 39,\n",
       " 'election': 31,\n",
       " 'against': 28,\n",
       " 'presidential': 26,\n",
       " 'which': 26}"
      ]
     },
     "execution_count": 7,
     "metadata": {},
     "output_type": "execute_result"
    }
   ],
   "source": [
    "# creates a dictionary of words in the Trump article as keys and values of the amount of times it was shown\n",
    "\n",
    "trump_categorical_distribution = {} # empty dictionary\n",
    "for word in text_content_trump_words:\n",
    "    if word in trump_categorical_distribution:\n",
    "        trump_categorical_distribution[word] = trump_categorical_distribution[word] + 1 # word in dict update count\n",
    "    else:\n",
    "        trump_categorical_distribution[word] = 1 # if word not already in dict then set count to 1\n",
    "\n",
    "# displays the top 15 most frequent words in the dictionary\n",
    "trump_most_words = dict(sorted(trump_categorical_distribution.items(), key = lambda x: x[1], reverse = True)[:15])\n",
    "trump_most_words"
   ]
  },
  {
   "cell_type": "markdown",
   "metadata": {},
   "source": [
    "### As the dictionary shows, the most common word in the Trump article that is an adjective is 'not'. This word does have a negative connotation but it isn't substantial enough to make any claims. The sentiment analysis will provide a deeper analysis into this."
   ]
  },
  {
   "cell_type": "code",
   "execution_count": 8,
   "metadata": {},
   "outputs": [
    {
     "data": {
      "text/plain": [
       "{'Biden': 295,\n",
       " 'his': 104,\n",
       " 'for': 94,\n",
       " 'was': 71,\n",
       " 'that': 71,\n",
       " 'with': 59,\n",
       " \"Biden's\": 56,\n",
       " 'had': 45,\n",
       " 'Obama': 34,\n",
       " 'has': 29,\n",
       " 'from': 26,\n",
       " 'but': 24,\n",
       " 'Senate': 24,\n",
       " 'president': 21,\n",
       " 'first': 19,\n",
       " 'said': 19,\n",
       " 'Act': 18,\n",
       " 'not': 18,\n",
       " 'during': 17,\n",
       " 'after': 17}"
      ]
     },
     "execution_count": 8,
     "metadata": {},
     "output_type": "execute_result"
    }
   ],
   "source": [
    "# creates a dictionary of words in the Biden article as keys and values of the amount of times it was shown\n",
    "\n",
    "biden_categorical_distribution = {} # empty dictionary\n",
    "for word in text_content_biden_words:\n",
    "    if word in biden_categorical_distribution:\n",
    "        biden_categorical_distribution[word] = biden_categorical_distribution[word] + 1 # word in dict update count\n",
    "    else:\n",
    "        biden_categorical_distribution[word] = 1 # if word not already in dict then set count to 1\n",
    "\n",
    "# displays the top 20 most frequent words in dictionary\n",
    "biden_most_words = dict(sorted(biden_categorical_distribution.items(), key = lambda x: x[1], reverse = True)[:20])\n",
    "biden_most_words"
   ]
  },
  {
   "cell_type": "markdown",
   "metadata": {},
   "source": [
    "### As the dictionary shows, the most common word in the Biden article that is an adjective is 'not'. Although this is the same word as the Trump article, the number of times it appears in the Trump article is double that of the Biden article."
   ]
  },
  {
   "cell_type": "code",
   "execution_count": 9,
   "metadata": {},
   "outputs": [
    {
     "data": {
      "text/plain": [
       "[{'neg': 0.0,\n",
       "  'neu': 0.909,\n",
       "  'pos': 0.091,\n",
       "  'compound': 0.4215,\n",
       "  'text': ' Donald John Trump (born June 14, 1946) is an American politician, media personality, and businessman who served as the 45th president of the United States from 2017 to 2021'},\n",
       " {'neg': 0.0,\n",
       "  'neu': 1.0,\n",
       "  'pos': 0.0,\n",
       "  'compound': 0.0,\n",
       "  'text': ' Trump received a Bachelor of Science in economics from the University of Pennsylvania in 1968, and his father named him president of his real estate business in 1971'},\n",
       " {'neg': 0.0,\n",
       "  'neu': 1.0,\n",
       "  'pos': 0.0,\n",
       "  'compound': 0.0,\n",
       "  'text': ' Trump renamed it the Trump Organization and reoriented the company toward building and renovating skyscrapers, hotels, casinos, and golf courses'},\n",
       " {'neg': 0.101,\n",
       "  'neu': 0.741,\n",
       "  'pos': 0.158,\n",
       "  'compound': 0.1779,\n",
       "  'text': ' After a series of business failures in the late twentieth century, he successfully launched side ventures that required little capital, mostly by licensing the Trump name'},\n",
       " {'neg': 0.083,\n",
       "  'neu': 0.54,\n",
       "  'pos': 0.378,\n",
       "  'compound': 0.8519,\n",
       "  'text': ' Trump won the 2016 presidential election as the Republican Party nominee against Democratic Party nominee Hillary Clinton while losing the popular vote'}]"
      ]
     },
     "execution_count": 9,
     "metadata": {},
     "output_type": "execute_result"
    }
   ],
   "source": [
    "# creates a sentiment score for each sentence in the biden article\n",
    "\n",
    "sid = SentimentIntensityAnalyzer()\n",
    "\n",
    "trumpSentiments = []\n",
    "\n",
    "for sentence in text_content_trump:\n",
    "    sentenceSentiment = sid.polarity_scores(sentence) # calculates the polarity score for each sentence\n",
    "    sentenceSentiment['text'] = sentence\n",
    "    trumpSentiments.append(sentenceSentiment) # appends score dictionary to the list\n",
    "    \n",
    "trumpSentiments[:5] # a list of dictionaries, with text of Trump sentences and sentiments"
   ]
  },
  {
   "cell_type": "code",
   "execution_count": 10,
   "metadata": {},
   "outputs": [
    {
     "data": {
      "text/plain": [
       "[{'neg': 0.0,\n",
       "  'neu': 1.0,\n",
       "  'pos': 0.0,\n",
       "  'compound': 0.0,\n",
       "  'text': ' Joseph Robinette Biden Jr'},\n",
       " {'neg': 0.0,\n",
       "  'neu': 1.0,\n",
       "  'pos': 0.0,\n",
       "  'compound': 0.0,\n",
       "  'text': ' Born in Scranton, Pennsylvania, Biden moved with his family to Delaware in 1953'},\n",
       " {'neg': 0.354,\n",
       "  'neu': 0.646,\n",
       "  'pos': 0.0,\n",
       "  'compound': -0.91,\n",
       "  'text': ' As a senator, Biden drafted and led the effort to pass the Violent Crime Control and Law Enforcement Act and the Violence Against Women Act'},\n",
       " {'neg': 0.197,\n",
       "  'neu': 0.803,\n",
       "  'pos': 0.0,\n",
       "  'compound': -0.4019,\n",
       "  'text': ' Biden ran unsuccessfully for the Democratic presidential nomination in 1988 and 2008'},\n",
       " {'neg': 0.0,\n",
       "  'neu': 1.0,\n",
       "  'pos': 0.0,\n",
       "  'compound': 0.0,\n",
       "  'text': ' In 2008, Obama chose Biden as his running mate, and he was a close counselor to Obama during his two terms as vice president'}]"
      ]
     },
     "execution_count": 10,
     "metadata": {},
     "output_type": "execute_result"
    }
   ],
   "source": [
    "# creates a sentiment score for each sentence in the biden article\n",
    "\n",
    "bidenSentiments = []\n",
    "\n",
    "for sentence in text_content_biden:\n",
    "    sentenceSentiment = sid.polarity_scores(sentence) # calculates the polarity score for each sentence\n",
    "    sentenceSentiment['text'] = sentence\n",
    "    bidenSentiments.append(sentenceSentiment) # appends score dictionary to the list\n",
    "    \n",
    "bidenSentiments[:5] # a list of dictionaries, with text of Biden sentences and sentiments"
   ]
  },
  {
   "cell_type": "code",
   "execution_count": 11,
   "metadata": {},
   "outputs": [
    {
     "data": {
      "text/html": [
       "<div>\n",
       "<style scoped>\n",
       "    .dataframe tbody tr th:only-of-type {\n",
       "        vertical-align: middle;\n",
       "    }\n",
       "\n",
       "    .dataframe tbody tr th {\n",
       "        vertical-align: top;\n",
       "    }\n",
       "\n",
       "    .dataframe thead th {\n",
       "        text-align: right;\n",
       "    }\n",
       "</style>\n",
       "<table border=\"1\" class=\"dataframe\">\n",
       "  <thead>\n",
       "    <tr style=\"text-align: right;\">\n",
       "      <th></th>\n",
       "      <th>neg</th>\n",
       "      <th>neu</th>\n",
       "      <th>pos</th>\n",
       "      <th>compound</th>\n",
       "      <th>text</th>\n",
       "    </tr>\n",
       "  </thead>\n",
       "  <tbody>\n",
       "    <tr>\n",
       "      <th>454</th>\n",
       "      <td>0.270</td>\n",
       "      <td>0.730</td>\n",
       "      <td>0.000</td>\n",
       "      <td>-0.9371</td>\n",
       "      <td>[776][777] A nationwide review by ABC News in ...</td>\n",
       "    </tr>\n",
       "    <tr>\n",
       "      <th>451</th>\n",
       "      <td>0.259</td>\n",
       "      <td>0.689</td>\n",
       "      <td>0.052</td>\n",
       "      <td>-0.9022</td>\n",
       "      <td>[766] During and since the 2020 presidential e...</td>\n",
       "    </tr>\n",
       "    <tr>\n",
       "      <th>280</th>\n",
       "      <td>0.256</td>\n",
       "      <td>0.710</td>\n",
       "      <td>0.034</td>\n",
       "      <td>-0.8979</td>\n",
       "      <td>[473][474][475] By early April, as the pandemi...</td>\n",
       "    </tr>\n",
       "    <tr>\n",
       "      <th>9</th>\n",
       "      <td>0.280</td>\n",
       "      <td>0.663</td>\n",
       "      <td>0.058</td>\n",
       "      <td>-0.8934</td>\n",
       "      <td>Trump refused to concede after losing the 202...</td>\n",
       "    </tr>\n",
       "    <tr>\n",
       "      <th>226</th>\n",
       "      <td>0.311</td>\n",
       "      <td>0.689</td>\n",
       "      <td>0.000</td>\n",
       "      <td>-0.8860</td>\n",
       "      <td>[370] Trump said he resisted punishing China f...</td>\n",
       "    </tr>\n",
       "    <tr>\n",
       "      <th>...</th>\n",
       "      <td>...</td>\n",
       "      <td>...</td>\n",
       "      <td>...</td>\n",
       "      <td>...</td>\n",
       "      <td>...</td>\n",
       "    </tr>\n",
       "    <tr>\n",
       "      <th>246</th>\n",
       "      <td>0.000</td>\n",
       "      <td>0.714</td>\n",
       "      <td>0.286</td>\n",
       "      <td>0.7906</td>\n",
       "      <td>[406][407] In May 2018, Trump withdrew the Uni...</td>\n",
       "    </tr>\n",
       "    <tr>\n",
       "      <th>135</th>\n",
       "      <td>0.000</td>\n",
       "      <td>0.702</td>\n",
       "      <td>0.298</td>\n",
       "      <td>0.8176</td>\n",
       "      <td>[186] Duke enthusiastically supported Trump an...</td>\n",
       "    </tr>\n",
       "    <tr>\n",
       "      <th>380</th>\n",
       "      <td>0.083</td>\n",
       "      <td>0.623</td>\n",
       "      <td>0.293</td>\n",
       "      <td>0.8439</td>\n",
       "      <td>, Trump tweeted that the rioters should \"go ho...</td>\n",
       "    </tr>\n",
       "    <tr>\n",
       "      <th>316</th>\n",
       "      <td>0.000</td>\n",
       "      <td>0.803</td>\n",
       "      <td>0.197</td>\n",
       "      <td>0.8442</td>\n",
       "      <td>[538] In January 2017, American intelligence a...</td>\n",
       "    </tr>\n",
       "    <tr>\n",
       "      <th>4</th>\n",
       "      <td>0.083</td>\n",
       "      <td>0.540</td>\n",
       "      <td>0.378</td>\n",
       "      <td>0.8519</td>\n",
       "      <td>Trump won the 2016 presidential election as t...</td>\n",
       "    </tr>\n",
       "  </tbody>\n",
       "</table>\n",
       "<p>490 rows × 5 columns</p>\n",
       "</div>"
      ],
      "text/plain": [
       "       neg    neu    pos  compound  \\\n",
       "454  0.270  0.730  0.000   -0.9371   \n",
       "451  0.259  0.689  0.052   -0.9022   \n",
       "280  0.256  0.710  0.034   -0.8979   \n",
       "9    0.280  0.663  0.058   -0.8934   \n",
       "226  0.311  0.689  0.000   -0.8860   \n",
       "..     ...    ...    ...       ...   \n",
       "246  0.000  0.714  0.286    0.7906   \n",
       "135  0.000  0.702  0.298    0.8176   \n",
       "380  0.083  0.623  0.293    0.8439   \n",
       "316  0.000  0.803  0.197    0.8442   \n",
       "4    0.083  0.540  0.378    0.8519   \n",
       "\n",
       "                                                  text  \n",
       "454  [776][777] A nationwide review by ABC News in ...  \n",
       "451  [766] During and since the 2020 presidential e...  \n",
       "280  [473][474][475] By early April, as the pandemi...  \n",
       "9     Trump refused to concede after losing the 202...  \n",
       "226  [370] Trump said he resisted punishing China f...  \n",
       "..                                                 ...  \n",
       "246  [406][407] In May 2018, Trump withdrew the Uni...  \n",
       "135  [186] Duke enthusiastically supported Trump an...  \n",
       "380  , Trump tweeted that the rioters should \"go ho...  \n",
       "316  [538] In January 2017, American intelligence a...  \n",
       "4     Trump won the 2016 presidential election as t...  \n",
       "\n",
       "[490 rows x 5 columns]"
      ]
     },
     "execution_count": 11,
     "metadata": {},
     "output_type": "execute_result"
    }
   ],
   "source": [
    "trumpSentimentDf = pd.DataFrame(trumpSentiments) #puts the biden sentiment list of dictionaries into a dataframe\n",
    "trumpSentimentDf.sort_values('compound') # sorts the values in the compound column in ascending order"
   ]
  },
  {
   "cell_type": "code",
   "execution_count": 12,
   "metadata": {},
   "outputs": [
    {
     "data": {
      "text/html": [
       "<div>\n",
       "<style scoped>\n",
       "    .dataframe tbody tr th:only-of-type {\n",
       "        vertical-align: middle;\n",
       "    }\n",
       "\n",
       "    .dataframe tbody tr th {\n",
       "        vertical-align: top;\n",
       "    }\n",
       "\n",
       "    .dataframe thead th {\n",
       "        text-align: right;\n",
       "    }\n",
       "</style>\n",
       "<table border=\"1\" class=\"dataframe\">\n",
       "  <thead>\n",
       "    <tr style=\"text-align: right;\">\n",
       "      <th></th>\n",
       "      <th>neg</th>\n",
       "      <th>neu</th>\n",
       "      <th>pos</th>\n",
       "      <th>compound</th>\n",
       "      <th>text</th>\n",
       "    </tr>\n",
       "  </thead>\n",
       "  <tbody>\n",
       "    <tr>\n",
       "      <th>56</th>\n",
       "      <td>0.386</td>\n",
       "      <td>0.572</td>\n",
       "      <td>0.043</td>\n",
       "      <td>-0.9572</td>\n",
       "      <td>[89] In 1994, Biden helped pass the Violent Cr...</td>\n",
       "    </tr>\n",
       "    <tr>\n",
       "      <th>2</th>\n",
       "      <td>0.354</td>\n",
       "      <td>0.646</td>\n",
       "      <td>0.000</td>\n",
       "      <td>-0.9100</td>\n",
       "      <td>As a senator, Biden drafted and led the effor...</td>\n",
       "    </tr>\n",
       "    <tr>\n",
       "      <th>29</th>\n",
       "      <td>0.317</td>\n",
       "      <td>0.683</td>\n",
       "      <td>0.000</td>\n",
       "      <td>-0.8677</td>\n",
       "      <td>[43] Biden had not openly supported or opposed...</td>\n",
       "    </tr>\n",
       "    <tr>\n",
       "      <th>9</th>\n",
       "      <td>0.355</td>\n",
       "      <td>0.561</td>\n",
       "      <td>0.084</td>\n",
       "      <td>-0.8658</td>\n",
       "      <td>During the Israel–Hamas war, Biden announced ...</td>\n",
       "    </tr>\n",
       "    <tr>\n",
       "      <th>77</th>\n",
       "      <td>0.360</td>\n",
       "      <td>0.552</td>\n",
       "      <td>0.088</td>\n",
       "      <td>-0.8555</td>\n",
       "      <td>[122] Biden became interested in the Yugoslav ...</td>\n",
       "    </tr>\n",
       "    <tr>\n",
       "      <th>...</th>\n",
       "      <td>...</td>\n",
       "      <td>...</td>\n",
       "      <td>...</td>\n",
       "      <td>...</td>\n",
       "      <td>...</td>\n",
       "    </tr>\n",
       "    <tr>\n",
       "      <th>314</th>\n",
       "      <td>0.000</td>\n",
       "      <td>0.617</td>\n",
       "      <td>0.383</td>\n",
       "      <td>0.8519</td>\n",
       "      <td>[570] Biden supports environmental justice, in...</td>\n",
       "    </tr>\n",
       "    <tr>\n",
       "      <th>68</th>\n",
       "      <td>0.000</td>\n",
       "      <td>0.554</td>\n",
       "      <td>0.446</td>\n",
       "      <td>0.9052</td>\n",
       "      <td>Conservatives were angered,[110] but at the h...</td>\n",
       "    </tr>\n",
       "    <tr>\n",
       "      <th>266</th>\n",
       "      <td>0.000</td>\n",
       "      <td>0.543</td>\n",
       "      <td>0.457</td>\n",
       "      <td>0.9118</td>\n",
       "      <td>[453] Democrats credited Biden for their unexp...</td>\n",
       "    </tr>\n",
       "    <tr>\n",
       "      <th>272</th>\n",
       "      <td>0.000</td>\n",
       "      <td>0.707</td>\n",
       "      <td>0.293</td>\n",
       "      <td>0.9201</td>\n",
       "      <td>[465] In September 2021, Biden announced AUKUS...</td>\n",
       "    </tr>\n",
       "    <tr>\n",
       "      <th>33</th>\n",
       "      <td>0.000</td>\n",
       "      <td>0.688</td>\n",
       "      <td>0.312</td>\n",
       "      <td>0.9382</td>\n",
       "      <td>[32][46] A few months before the election, Bid...</td>\n",
       "    </tr>\n",
       "  </tbody>\n",
       "</table>\n",
       "<p>340 rows × 5 columns</p>\n",
       "</div>"
      ],
      "text/plain": [
       "       neg    neu    pos  compound  \\\n",
       "56   0.386  0.572  0.043   -0.9572   \n",
       "2    0.354  0.646  0.000   -0.9100   \n",
       "29   0.317  0.683  0.000   -0.8677   \n",
       "9    0.355  0.561  0.084   -0.8658   \n",
       "77   0.360  0.552  0.088   -0.8555   \n",
       "..     ...    ...    ...       ...   \n",
       "314  0.000  0.617  0.383    0.8519   \n",
       "68   0.000  0.554  0.446    0.9052   \n",
       "266  0.000  0.543  0.457    0.9118   \n",
       "272  0.000  0.707  0.293    0.9201   \n",
       "33   0.000  0.688  0.312    0.9382   \n",
       "\n",
       "                                                  text  \n",
       "56   [89] In 1994, Biden helped pass the Violent Cr...  \n",
       "2     As a senator, Biden drafted and led the effor...  \n",
       "29   [43] Biden had not openly supported or opposed...  \n",
       "9     During the Israel–Hamas war, Biden announced ...  \n",
       "77   [122] Biden became interested in the Yugoslav ...  \n",
       "..                                                 ...  \n",
       "314  [570] Biden supports environmental justice, in...  \n",
       "68    Conservatives were angered,[110] but at the h...  \n",
       "266  [453] Democrats credited Biden for their unexp...  \n",
       "272  [465] In September 2021, Biden announced AUKUS...  \n",
       "33   [32][46] A few months before the election, Bid...  \n",
       "\n",
       "[340 rows x 5 columns]"
      ]
     },
     "execution_count": 12,
     "metadata": {},
     "output_type": "execute_result"
    }
   ],
   "source": [
    "bidenSentimentDf = pd.DataFrame(bidenSentiments) #puts the biden sentiment list of dictionaries into a dataframe\n",
    "bidenSentimentDf.sort_values('compound') # sorts the values in the compound column in ascending order"
   ]
  },
  {
   "cell_type": "code",
   "execution_count": 13,
   "metadata": {},
   "outputs": [
    {
     "data": {
      "text/plain": [
       "0.05151058823529413"
      ]
     },
     "execution_count": 13,
     "metadata": {},
     "output_type": "execute_result"
    }
   ],
   "source": [
    "bidenSentimentDf['compound'].mean()  #finds the mean compound score of all the relevent Biden sentences"
   ]
  },
  {
   "cell_type": "code",
   "execution_count": 14,
   "metadata": {},
   "outputs": [
    {
     "data": {
      "text/plain": [
       "-0.035652448979591835"
      ]
     },
     "execution_count": 14,
     "metadata": {},
     "output_type": "execute_result"
    }
   ],
   "source": [
    "trumpSentimentDf['compound'].mean() #finds the mean compound score of all the relevent Trump sentences"
   ]
  },
  {
   "cell_type": "markdown",
   "metadata": {},
   "source": [
    "# Conclusions\n"
   ]
  },
  {
   "cell_type": "markdown",
   "metadata": {},
   "source": [
    "As we can see, Trump's compound sentiment score from all of the Wikipedia page's sentences is overall negative. Meanwhile we can see that Biden's compound sentiment score from all of the Wikipedia page's sentences is overall positive. This can mean many different things. It can show that Trump is a more controversial president since Wikipedia shows a stronger negative connotation with his actions. It can also show that Wikipedia might not be completely impartial when stating the facts since there is a somewhat significant difference between the two president's scores. However I don't think this claim about Wikipedia is substantial since both compound scores are close to 0. This means that Wikipedia was mostly impartial when describing both presidents. Thus, using the data I gathered, I can assert that Biden's actions are described in a more positive manner when compared to Trump."
   ]
  }
 ],
 "metadata": {
  "kernelspec": {
   "display_name": "Python 3 (ipykernel)",
   "language": "python",
   "name": "python3"
  },
  "language_info": {
   "codemirror_mode": {
    "name": "ipython",
    "version": 3
   },
   "file_extension": ".py",
   "mimetype": "text/x-python",
   "name": "python",
   "nbconvert_exporter": "python",
   "pygments_lexer": "ipython3",
   "version": "3.9.5"
  }
 },
 "nbformat": 4,
 "nbformat_minor": 1
}
